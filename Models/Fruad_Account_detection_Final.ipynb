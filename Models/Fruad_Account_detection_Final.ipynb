{
 "cells": [
  {
   "cell_type": "markdown",
   "id": "4acdeef5",
   "metadata": {},
   "source": [
    "## Introduction to the dataset\n",
    "The Bank Account Fraud (BAF) suite of datasets, recently published at NeurIPS 2022, offers a comprehensive collection of synthetic bank account fraud tabular datasets.This suite comprises six distinct datasets, making it a valuable resource for evaluating both novel and existing machine learning (ML) and fair ML methods in the field of fraud detection.  \n",
    "\n",
    "One notable aspect of the BAF datasets is their realism. They are constructed based on present-day real-world datasets specifically curated for fraud detection purposes. This ensures that the datasets closely resemble actual fraud scenarios encountered in financial transactions, making them highly relevant for developing and testing fraud detection models. \n",
    "\n",
    "The BAF datasets introduce controlled bias and imbalanced class distributions, making it valuable for developing fair ML techniques and addressing class imbalance in fraud detection. They are dynamic, featuring temporal data and distribution shifts. Privacy is ensured through privacy-preserving techniques such as differential privacy and generative modeling.  \n",
    "\n",
    "Overall, the Bank Account Fraud (BAF) suite of datasets represents a significant contribution to the field of fraud detection. With their realistic, biased, imbalanced, dynamic, and privacy-preserving nature, these datasets serve as an invaluable resource for evaluating and advancing ML and fair ML methods in the domain of fraud detection.  \n",
    "\n",
    "You can find the dataset [here](https://www.kaggle.com/datasets/sgpjesus/bank-account-fraud-dataset-neurips-2022)."
   ]
  },
  {
   "cell_type": "markdown",
   "id": "b91cffb4",
   "metadata": {},
   "source": [
    "## Problem statement\n",
    "The problem is to develop a machine learning model that can effectively detect fraudulent bank account activities using the Bank Account Fraud (BAF) suite of datasets. The goal is to build a robust and accurate fraud detection system that can identify fraudulent transactions while minimizing false positives."
   ]
  },
  {
   "cell_type": "markdown",
   "id": "7cbf2000",
   "metadata": {},
   "source": [
    "### Imports"
   ]
  },
  {
   "cell_type": "code",
   "execution_count": 1,
   "id": "6962e4b5",
   "metadata": {},
   "outputs": [],
   "source": [
    "import pandas as pd\n",
    "import numpy as np\n",
    "from sklearn.preprocessing import LabelEncoder, StandardScaler\n",
    "from sklearn.feature_selection import VarianceThreshold\n",
    "from sklearn.model_selection import train_test_split\n",
    "from sklearn.metrics import classification_report, precision_recall_curve, auc, roc_curve, roc_auc_score\n",
    "from imblearn.over_sampling import RandomOverSampler\n",
    "import xgboost as xgb\n",
    "import matplotlib.pyplot as plt"
   ]
  },
  {
   "cell_type": "markdown",
   "id": "e61c03db",
   "metadata": {},
   "source": [
    "## Data collection"
   ]
  },
  {
   "cell_type": "markdown",
   "id": "fc86c89e",
   "metadata": {},
   "source": [
    "### Reading the dowloaded .csv"
   ]
  },
  {
   "cell_type": "code",
   "execution_count": 2,
   "id": "23107073",
   "metadata": {},
   "outputs": [
    {
     "data": {
      "text/html": [
       "<div>\n",
       "<style scoped>\n",
       "    .dataframe tbody tr th:only-of-type {\n",
       "        vertical-align: middle;\n",
       "    }\n",
       "\n",
       "    .dataframe tbody tr th {\n",
       "        vertical-align: top;\n",
       "    }\n",
       "\n",
       "    .dataframe thead th {\n",
       "        text-align: right;\n",
       "    }\n",
       "</style>\n",
       "<table border=\"1\" class=\"dataframe\">\n",
       "  <thead>\n",
       "    <tr style=\"text-align: right;\">\n",
       "      <th></th>\n",
       "      <th>fraud_bool</th>\n",
       "      <th>income</th>\n",
       "      <th>name_email_similarity</th>\n",
       "      <th>current_address_months_count</th>\n",
       "      <th>customer_age</th>\n",
       "      <th>days_since_request</th>\n",
       "      <th>intended_balcon_amount</th>\n",
       "      <th>payment_type</th>\n",
       "      <th>zip_count_4w</th>\n",
       "      <th>velocity_6h</th>\n",
       "      <th>...</th>\n",
       "      <th>employment_status</th>\n",
       "      <th>credit_risk_score</th>\n",
       "      <th>email_is_free</th>\n",
       "      <th>housing_status</th>\n",
       "      <th>phone_home_valid</th>\n",
       "      <th>phone_mobile_valid</th>\n",
       "      <th>has_other_cards</th>\n",
       "      <th>proposed_credit_limit</th>\n",
       "      <th>foreign_request</th>\n",
       "      <th>month</th>\n",
       "    </tr>\n",
       "  </thead>\n",
       "  <tbody>\n",
       "    <tr>\n",
       "      <th>0</th>\n",
       "      <td>1</td>\n",
       "      <td>0.9</td>\n",
       "      <td>0.166828</td>\n",
       "      <td>88</td>\n",
       "      <td>50</td>\n",
       "      <td>0.020925</td>\n",
       "      <td>-1.331345</td>\n",
       "      <td>AA</td>\n",
       "      <td>769</td>\n",
       "      <td>10650.765520</td>\n",
       "      <td>...</td>\n",
       "      <td>CA</td>\n",
       "      <td>185</td>\n",
       "      <td>0</td>\n",
       "      <td>BA</td>\n",
       "      <td>1</td>\n",
       "      <td>0</td>\n",
       "      <td>0</td>\n",
       "      <td>500</td>\n",
       "      <td>0</td>\n",
       "      <td>7</td>\n",
       "    </tr>\n",
       "    <tr>\n",
       "      <th>1</th>\n",
       "      <td>1</td>\n",
       "      <td>0.9</td>\n",
       "      <td>0.296286</td>\n",
       "      <td>144</td>\n",
       "      <td>50</td>\n",
       "      <td>0.005418</td>\n",
       "      <td>-0.816224</td>\n",
       "      <td>AB</td>\n",
       "      <td>366</td>\n",
       "      <td>534.047319</td>\n",
       "      <td>...</td>\n",
       "      <td>CA</td>\n",
       "      <td>259</td>\n",
       "      <td>1</td>\n",
       "      <td>BA</td>\n",
       "      <td>0</td>\n",
       "      <td>0</td>\n",
       "      <td>0</td>\n",
       "      <td>1500</td>\n",
       "      <td>0</td>\n",
       "      <td>7</td>\n",
       "    </tr>\n",
       "    <tr>\n",
       "      <th>2</th>\n",
       "      <td>1</td>\n",
       "      <td>0.9</td>\n",
       "      <td>0.044985</td>\n",
       "      <td>132</td>\n",
       "      <td>40</td>\n",
       "      <td>3.108549</td>\n",
       "      <td>-0.755728</td>\n",
       "      <td>AC</td>\n",
       "      <td>870</td>\n",
       "      <td>4048.534263</td>\n",
       "      <td>...</td>\n",
       "      <td>CB</td>\n",
       "      <td>177</td>\n",
       "      <td>1</td>\n",
       "      <td>BA</td>\n",
       "      <td>0</td>\n",
       "      <td>1</td>\n",
       "      <td>0</td>\n",
       "      <td>200</td>\n",
       "      <td>0</td>\n",
       "      <td>7</td>\n",
       "    </tr>\n",
       "    <tr>\n",
       "      <th>3</th>\n",
       "      <td>1</td>\n",
       "      <td>0.9</td>\n",
       "      <td>0.159511</td>\n",
       "      <td>22</td>\n",
       "      <td>50</td>\n",
       "      <td>0.019079</td>\n",
       "      <td>-1.205124</td>\n",
       "      <td>AB</td>\n",
       "      <td>810</td>\n",
       "      <td>3457.064063</td>\n",
       "      <td>...</td>\n",
       "      <td>CA</td>\n",
       "      <td>110</td>\n",
       "      <td>1</td>\n",
       "      <td>BA</td>\n",
       "      <td>0</td>\n",
       "      <td>1</td>\n",
       "      <td>1</td>\n",
       "      <td>200</td>\n",
       "      <td>0</td>\n",
       "      <td>7</td>\n",
       "    </tr>\n",
       "    <tr>\n",
       "      <th>4</th>\n",
       "      <td>1</td>\n",
       "      <td>0.9</td>\n",
       "      <td>0.596414</td>\n",
       "      <td>218</td>\n",
       "      <td>50</td>\n",
       "      <td>0.004441</td>\n",
       "      <td>-0.773276</td>\n",
       "      <td>AB</td>\n",
       "      <td>890</td>\n",
       "      <td>5020.341679</td>\n",
       "      <td>...</td>\n",
       "      <td>CA</td>\n",
       "      <td>295</td>\n",
       "      <td>1</td>\n",
       "      <td>BA</td>\n",
       "      <td>1</td>\n",
       "      <td>0</td>\n",
       "      <td>0</td>\n",
       "      <td>1500</td>\n",
       "      <td>0</td>\n",
       "      <td>7</td>\n",
       "    </tr>\n",
       "  </tbody>\n",
       "</table>\n",
       "<p>5 rows × 24 columns</p>\n",
       "</div>"
      ],
      "text/plain": [
       "   fraud_bool  income  name_email_similarity  current_address_months_count  \\\n",
       "0           1     0.9               0.166828                            88   \n",
       "1           1     0.9               0.296286                           144   \n",
       "2           1     0.9               0.044985                           132   \n",
       "3           1     0.9               0.159511                            22   \n",
       "4           1     0.9               0.596414                           218   \n",
       "\n",
       "   customer_age  days_since_request  intended_balcon_amount payment_type  \\\n",
       "0            50            0.020925               -1.331345           AA   \n",
       "1            50            0.005418               -0.816224           AB   \n",
       "2            40            3.108549               -0.755728           AC   \n",
       "3            50            0.019079               -1.205124           AB   \n",
       "4            50            0.004441               -0.773276           AB   \n",
       "\n",
       "   zip_count_4w   velocity_6h  ...  employment_status  credit_risk_score  \\\n",
       "0           769  10650.765520  ...                 CA                185   \n",
       "1           366    534.047319  ...                 CA                259   \n",
       "2           870   4048.534263  ...                 CB                177   \n",
       "3           810   3457.064063  ...                 CA                110   \n",
       "4           890   5020.341679  ...                 CA                295   \n",
       "\n",
       "   email_is_free  housing_status phone_home_valid  phone_mobile_valid  \\\n",
       "0              0              BA                1                   0   \n",
       "1              1              BA                0                   0   \n",
       "2              1              BA                0                   1   \n",
       "3              1              BA                0                   1   \n",
       "4              1              BA                1                   0   \n",
       "\n",
       "   has_other_cards proposed_credit_limit  foreign_request  month  \n",
       "0                0                   500                0      7  \n",
       "1                0                  1500                0      7  \n",
       "2                0                   200                0      7  \n",
       "3                1                   200                0      7  \n",
       "4                0                  1500                0      7  \n",
       "\n",
       "[5 rows x 24 columns]"
      ]
     },
     "execution_count": 2,
     "metadata": {},
     "output_type": "execute_result"
    }
   ],
   "source": [
    "transactions = pd.read_csv('Base.csv')\n",
    "transactions.head()"
   ]
  },
  {
   "cell_type": "markdown",
   "id": "3d2fcf0f",
   "metadata": {},
   "source": [
    "### Checking for null values"
   ]
  },
  {
   "cell_type": "code",
   "execution_count": 3,
   "id": "81a371cf",
   "metadata": {},
   "outputs": [
    {
     "data": {
      "text/plain": [
       "fraud_bool                          0\n",
       "income                              0\n",
       "name_email_similarity               0\n",
       "current_address_months_count        0\n",
       "customer_age                        0\n",
       "days_since_request                  0\n",
       "intended_balcon_amount              0\n",
       "payment_type                        0\n",
       "zip_count_4w                        0\n",
       "velocity_6h                         0\n",
       "velocity_24h                        0\n",
       "velocity_4w                         0\n",
       "bank_branch_count_8w                0\n",
       "date_of_birth_distinct_emails_4w    0\n",
       "employment_status                   0\n",
       "credit_risk_score                   0\n",
       "email_is_free                       0\n",
       "housing_status                      0\n",
       "phone_home_valid                    0\n",
       "phone_mobile_valid                  0\n",
       "has_other_cards                     0\n",
       "proposed_credit_limit               0\n",
       "foreign_request                     0\n",
       "month                               0\n",
       "dtype: int64"
      ]
     },
     "execution_count": 3,
     "metadata": {},
     "output_type": "execute_result"
    }
   ],
   "source": [
    "transactions.isna().sum()"
   ]
  },
  {
   "cell_type": "markdown",
   "id": "38558f93",
   "metadata": {},
   "source": [
    "## Data cleaning and preprocessing"
   ]
  },
  {
   "cell_type": "markdown",
   "id": "2494297d",
   "metadata": {},
   "source": [
    "### Label encoding\n",
    "We are going to use **LabelEncoder** from the sklearn library. We have identified 4 variables that need label encoding as per the data description.\n",
    "They are : \n",
    "- payment_type_encoded(categorical) - Credit payment plan type. 5 possible (annonymized) values.\n",
    "- employment_status (categorical): Employment status of the applicant. 7 possible (annonymized) values.\n",
    "- housing_status (categorical): Current residential status for applicant. 7 possible (annonymized) values.\n",
    "- device_os (categorical): Operative system of device that made request. Possible values are: Windows, macOS, Linux, X11, or other."
   ]
  },
  {
   "cell_type": "code",
   "execution_count": 4,
   "id": "a8f4028c",
   "metadata": {
    "scrolled": true
   },
   "outputs": [
    {
     "data": {
      "text/html": [
       "<div>\n",
       "<style scoped>\n",
       "    .dataframe tbody tr th:only-of-type {\n",
       "        vertical-align: middle;\n",
       "    }\n",
       "\n",
       "    .dataframe tbody tr th {\n",
       "        vertical-align: top;\n",
       "    }\n",
       "\n",
       "    .dataframe thead th {\n",
       "        text-align: right;\n",
       "    }\n",
       "</style>\n",
       "<table border=\"1\" class=\"dataframe\">\n",
       "  <thead>\n",
       "    <tr style=\"text-align: right;\">\n",
       "      <th></th>\n",
       "      <th>fraud_bool</th>\n",
       "      <th>income</th>\n",
       "      <th>name_email_similarity</th>\n",
       "      <th>current_address_months_count</th>\n",
       "      <th>customer_age</th>\n",
       "      <th>days_since_request</th>\n",
       "      <th>intended_balcon_amount</th>\n",
       "      <th>payment_type</th>\n",
       "      <th>zip_count_4w</th>\n",
       "      <th>velocity_6h</th>\n",
       "      <th>...</th>\n",
       "      <th>housing_status</th>\n",
       "      <th>phone_home_valid</th>\n",
       "      <th>phone_mobile_valid</th>\n",
       "      <th>has_other_cards</th>\n",
       "      <th>proposed_credit_limit</th>\n",
       "      <th>foreign_request</th>\n",
       "      <th>month</th>\n",
       "      <th>payment_type_encoded</th>\n",
       "      <th>employment_status_encoded</th>\n",
       "      <th>housing_status_encoded</th>\n",
       "    </tr>\n",
       "  </thead>\n",
       "  <tbody>\n",
       "    <tr>\n",
       "      <th>0</th>\n",
       "      <td>1</td>\n",
       "      <td>0.9</td>\n",
       "      <td>0.166828</td>\n",
       "      <td>88</td>\n",
       "      <td>50</td>\n",
       "      <td>0.020925</td>\n",
       "      <td>-1.331345</td>\n",
       "      <td>AA</td>\n",
       "      <td>769</td>\n",
       "      <td>10650.765520</td>\n",
       "      <td>...</td>\n",
       "      <td>BA</td>\n",
       "      <td>1</td>\n",
       "      <td>0</td>\n",
       "      <td>0</td>\n",
       "      <td>500</td>\n",
       "      <td>0</td>\n",
       "      <td>7</td>\n",
       "      <td>0</td>\n",
       "      <td>0</td>\n",
       "      <td>0</td>\n",
       "    </tr>\n",
       "    <tr>\n",
       "      <th>1</th>\n",
       "      <td>1</td>\n",
       "      <td>0.9</td>\n",
       "      <td>0.296286</td>\n",
       "      <td>144</td>\n",
       "      <td>50</td>\n",
       "      <td>0.005418</td>\n",
       "      <td>-0.816224</td>\n",
       "      <td>AB</td>\n",
       "      <td>366</td>\n",
       "      <td>534.047319</td>\n",
       "      <td>...</td>\n",
       "      <td>BA</td>\n",
       "      <td>0</td>\n",
       "      <td>0</td>\n",
       "      <td>0</td>\n",
       "      <td>1500</td>\n",
       "      <td>0</td>\n",
       "      <td>7</td>\n",
       "      <td>1</td>\n",
       "      <td>0</td>\n",
       "      <td>0</td>\n",
       "    </tr>\n",
       "    <tr>\n",
       "      <th>2</th>\n",
       "      <td>1</td>\n",
       "      <td>0.9</td>\n",
       "      <td>0.044985</td>\n",
       "      <td>132</td>\n",
       "      <td>40</td>\n",
       "      <td>3.108549</td>\n",
       "      <td>-0.755728</td>\n",
       "      <td>AC</td>\n",
       "      <td>870</td>\n",
       "      <td>4048.534263</td>\n",
       "      <td>...</td>\n",
       "      <td>BA</td>\n",
       "      <td>0</td>\n",
       "      <td>1</td>\n",
       "      <td>0</td>\n",
       "      <td>200</td>\n",
       "      <td>0</td>\n",
       "      <td>7</td>\n",
       "      <td>2</td>\n",
       "      <td>1</td>\n",
       "      <td>0</td>\n",
       "    </tr>\n",
       "    <tr>\n",
       "      <th>3</th>\n",
       "      <td>1</td>\n",
       "      <td>0.9</td>\n",
       "      <td>0.159511</td>\n",
       "      <td>22</td>\n",
       "      <td>50</td>\n",
       "      <td>0.019079</td>\n",
       "      <td>-1.205124</td>\n",
       "      <td>AB</td>\n",
       "      <td>810</td>\n",
       "      <td>3457.064063</td>\n",
       "      <td>...</td>\n",
       "      <td>BA</td>\n",
       "      <td>0</td>\n",
       "      <td>1</td>\n",
       "      <td>1</td>\n",
       "      <td>200</td>\n",
       "      <td>0</td>\n",
       "      <td>7</td>\n",
       "      <td>1</td>\n",
       "      <td>0</td>\n",
       "      <td>0</td>\n",
       "    </tr>\n",
       "    <tr>\n",
       "      <th>4</th>\n",
       "      <td>1</td>\n",
       "      <td>0.9</td>\n",
       "      <td>0.596414</td>\n",
       "      <td>218</td>\n",
       "      <td>50</td>\n",
       "      <td>0.004441</td>\n",
       "      <td>-0.773276</td>\n",
       "      <td>AB</td>\n",
       "      <td>890</td>\n",
       "      <td>5020.341679</td>\n",
       "      <td>...</td>\n",
       "      <td>BA</td>\n",
       "      <td>1</td>\n",
       "      <td>0</td>\n",
       "      <td>0</td>\n",
       "      <td>1500</td>\n",
       "      <td>0</td>\n",
       "      <td>7</td>\n",
       "      <td>1</td>\n",
       "      <td>0</td>\n",
       "      <td>0</td>\n",
       "    </tr>\n",
       "  </tbody>\n",
       "</table>\n",
       "<p>5 rows × 27 columns</p>\n",
       "</div>"
      ],
      "text/plain": [
       "   fraud_bool  income  name_email_similarity  current_address_months_count  \\\n",
       "0           1     0.9               0.166828                            88   \n",
       "1           1     0.9               0.296286                           144   \n",
       "2           1     0.9               0.044985                           132   \n",
       "3           1     0.9               0.159511                            22   \n",
       "4           1     0.9               0.596414                           218   \n",
       "\n",
       "   customer_age  days_since_request  intended_balcon_amount payment_type  \\\n",
       "0            50            0.020925               -1.331345           AA   \n",
       "1            50            0.005418               -0.816224           AB   \n",
       "2            40            3.108549               -0.755728           AC   \n",
       "3            50            0.019079               -1.205124           AB   \n",
       "4            50            0.004441               -0.773276           AB   \n",
       "\n",
       "   zip_count_4w   velocity_6h  ...  housing_status  phone_home_valid  \\\n",
       "0           769  10650.765520  ...              BA                 1   \n",
       "1           366    534.047319  ...              BA                 0   \n",
       "2           870   4048.534263  ...              BA                 0   \n",
       "3           810   3457.064063  ...              BA                 0   \n",
       "4           890   5020.341679  ...              BA                 1   \n",
       "\n",
       "   phone_mobile_valid  has_other_cards proposed_credit_limit  foreign_request  \\\n",
       "0                   0                0                   500                0   \n",
       "1                   0                0                  1500                0   \n",
       "2                   1                0                   200                0   \n",
       "3                   1                1                   200                0   \n",
       "4                   0                0                  1500                0   \n",
       "\n",
       "   month payment_type_encoded  employment_status_encoded  \\\n",
       "0      7                    0                          0   \n",
       "1      7                    1                          0   \n",
       "2      7                    2                          1   \n",
       "3      7                    1                          0   \n",
       "4      7                    1                          0   \n",
       "\n",
       "   housing_status_encoded  \n",
       "0                       0  \n",
       "1                       0  \n",
       "2                       0  \n",
       "3                       0  \n",
       "4                       0  \n",
       "\n",
       "[5 rows x 27 columns]"
      ]
     },
     "execution_count": 4,
     "metadata": {},
     "output_type": "execute_result"
    }
   ],
   "source": [
    "label_encoder = LabelEncoder()\n",
    "transactions['payment_type_encoded'] = label_encoder.fit_transform(transactions['payment_type'])\n",
    "transactions['employment_status_encoded'] = label_encoder.fit_transform(transactions['employment_status'])\n",
    "transactions['housing_status_encoded'] = label_encoder.fit_transform(transactions['housing_status'])\n",
    "transactions.head()"
   ]
  },
  {
   "cell_type": "code",
   "execution_count": 6,
   "id": "4189458a",
   "metadata": {},
   "outputs": [
    {
     "data": {
      "text/plain": [
       "Index(['fraud_bool', 'income', 'name_email_similarity',\n",
       "       'current_address_months_count', 'customer_age', 'days_since_request',\n",
       "       'intended_balcon_amount', 'payment_type', 'zip_count_4w', 'velocity_6h',\n",
       "       'velocity_24h', 'velocity_4w', 'bank_branch_count_8w',\n",
       "       'date_of_birth_distinct_emails_4w', 'employment_status',\n",
       "       'credit_risk_score', 'email_is_free', 'housing_status',\n",
       "       'phone_home_valid', 'phone_mobile_valid', 'has_other_cards',\n",
       "       'proposed_credit_limit', 'foreign_request', 'month',\n",
       "       'payment_type_encoded', 'employment_status_encoded',\n",
       "       'housing_status_encoded'],\n",
       "      dtype='object')"
      ]
     },
     "execution_count": 6,
     "metadata": {},
     "output_type": "execute_result"
    }
   ],
   "source": [
    "transactions.columns"
   ]
  },
  {
   "cell_type": "code",
   "execution_count": 7,
   "id": "875c0c91",
   "metadata": {},
   "outputs": [],
   "source": [
    "transactions_encoded = transactions.drop(['payment_type', 'employment_status', 'housing_status'], axis=1)"
   ]
  },
  {
   "cell_type": "code",
   "execution_count": 8,
   "id": "e3b3f2d0",
   "metadata": {},
   "outputs": [
    {
     "data": {
      "text/plain": [
       "Index(['fraud_bool', 'income', 'name_email_similarity',\n",
       "       'current_address_months_count', 'customer_age', 'days_since_request',\n",
       "       'intended_balcon_amount', 'zip_count_4w', 'velocity_6h', 'velocity_24h',\n",
       "       'velocity_4w', 'bank_branch_count_8w',\n",
       "       'date_of_birth_distinct_emails_4w', 'credit_risk_score',\n",
       "       'email_is_free', 'phone_home_valid', 'phone_mobile_valid',\n",
       "       'has_other_cards', 'proposed_credit_limit', 'foreign_request', 'month',\n",
       "       'payment_type_encoded', 'employment_status_encoded',\n",
       "       'housing_status_encoded'],\n",
       "      dtype='object')"
      ]
     },
     "execution_count": 8,
     "metadata": {},
     "output_type": "execute_result"
    }
   ],
   "source": [
    "transactions_encoded.columns"
   ]
  },
  {
   "cell_type": "markdown",
   "id": "ee097e79",
   "metadata": {},
   "source": [
    "### Feature engineering\n",
    "There are two features we can engineer from the current dataset that could give us some more information that could be important to the future model.  \n",
    "- address_stablity  \n",
    "\n",
    "We can combine the information from \"prev_address_months_count\" and \"current_address_months_count\" to create a feature that represents the stability of the applicant's address. We can take the difference of the two to form our applicant's address stability.\n",
    "\n",
    "- application velocity  \n",
    "\n",
    "We can combine the velocity variables (\"velocity_6h,\" \"velocity_24h,\" \"velocity_4w\") to create an aggregated velocity feature. We can take the average of these variables to represent the overall application velocity of the applicant."
   ]
  },
  {
   "cell_type": "code",
   "execution_count": 9,
   "id": "a28ccfc7",
   "metadata": {},
   "outputs": [],
   "source": [
    "transactions_encoded['application_velocity'] = (transactions_encoded['velocity_6h'] + transactions_encoded['velocity_24h'] + transactions_encoded['velocity_4w']) / 3"
   ]
  },
  {
   "cell_type": "code",
   "execution_count": 10,
   "id": "bb662d43",
   "metadata": {},
   "outputs": [
    {
     "data": {
      "text/plain": [
       "Index(['fraud_bool', 'income', 'name_email_similarity',\n",
       "       'current_address_months_count', 'customer_age', 'days_since_request',\n",
       "       'intended_balcon_amount', 'zip_count_4w', 'velocity_6h', 'velocity_24h',\n",
       "       'velocity_4w', 'bank_branch_count_8w',\n",
       "       'date_of_birth_distinct_emails_4w', 'credit_risk_score',\n",
       "       'email_is_free', 'phone_home_valid', 'phone_mobile_valid',\n",
       "       'has_other_cards', 'proposed_credit_limit', 'foreign_request', 'month',\n",
       "       'payment_type_encoded', 'employment_status_encoded',\n",
       "       'housing_status_encoded', 'application_velocity'],\n",
       "      dtype='object')"
      ]
     },
     "execution_count": 10,
     "metadata": {},
     "output_type": "execute_result"
    }
   ],
   "source": [
    "transactions_encoded.columns"
   ]
  },
  {
   "cell_type": "markdown",
   "id": "878e3605",
   "metadata": {},
   "source": [
    "## Explanatory data analysis"
   ]
  },
  {
   "cell_type": "markdown",
   "id": "ed50109c",
   "metadata": {},
   "source": [
    "### Class imbalance\n",
    "It is improtant to check just how severe our class imbalance is for our target variable - fraud_bool."
   ]
  },
  {
   "cell_type": "code",
   "execution_count": 11,
   "id": "4d503fc7",
   "metadata": {},
   "outputs": [
    {
     "name": "stdout",
     "output_type": "stream",
     "text": [
      "Percentage of fraud_bool = 1: 1.1029\n",
      "Percentage of fraud_bool = 0: 98.89710000000001\n"
     ]
    }
   ],
   "source": [
    "fraud_counts = transactions_encoded['fraud_bool'].value_counts()\n",
    "\n",
    "percentage_fraud_1 = (fraud_counts[1] / len(transactions_encoded)) * 100\n",
    "percentage_fraud_0 = (fraud_counts[0] / len(transactions_encoded)) * 100\n",
    "\n",
    "print(\"Percentage of fraud_bool = 1:\", percentage_fraud_1)\n",
    "print(\"Percentage of fraud_bool = 0:\", percentage_fraud_0)"
   ]
  },
  {
   "cell_type": "markdown",
   "id": "af51ac54",
   "metadata": {},
   "source": [
    "Class imbalance poses a major obstacle in fraud detection models, as it introduces a significant disparity in the number of instances between the positive class (indicating fraud) and the negative class (representing legitimate transactions).   \n",
    "This skewed distribution of data makes it difficult for the model to effectively learn and classify rare instances of fraud accurately."
   ]
  },
  {
   "cell_type": "markdown",
   "id": "9e1f4f12",
   "metadata": {},
   "source": [
    "### Correlations to the target variable\n",
    "Let's check on the correlations with fraud_bool."
   ]
  },
  {
   "cell_type": "code",
   "execution_count": 12,
   "id": "2bff7bd8",
   "metadata": {},
   "outputs": [],
   "source": [
    "independent_vars = [col for col in transactions_encoded.columns if col != 'fraud_bool']\n",
    "X = transactions_encoded[independent_vars]\n",
    "y = transactions_encoded['fraud_bool']"
   ]
  },
  {
   "cell_type": "code",
   "execution_count": 13,
   "id": "0363a8c0",
   "metadata": {},
   "outputs": [
    {
     "name": "stdout",
     "output_type": "stream",
     "text": [
      "credit_risk_score                   0.070624\n",
      "proposed_credit_limit               0.068907\n",
      "customer_age                        0.062959\n",
      "income                              0.045079\n",
      "current_address_months_count        0.033701\n",
      "payment_type_encoded                0.028304\n",
      "email_is_free                       0.027758\n",
      "foreign_request                     0.016885\n",
      "month                               0.013250\n",
      "zip_count_4w                        0.005212\n",
      "days_since_request                  0.000567\n",
      "velocity_24h                       -0.011183\n",
      "velocity_4w                        -0.011536\n",
      "bank_branch_count_8w               -0.011577\n",
      "phone_mobile_valid                 -0.013180\n",
      "velocity_6h                        -0.016892\n",
      "application_velocity               -0.017480\n",
      "employment_status_encoded          -0.021676\n",
      "intended_balcon_amount             -0.024524\n",
      "phone_home_valid                   -0.035128\n",
      "has_other_cards                    -0.035156\n",
      "name_email_similarity              -0.036720\n",
      "date_of_birth_distinct_emails_4w   -0.043224\n",
      "housing_status_encoded             -0.078000\n",
      "dtype: float64\n"
     ]
    }
   ],
   "source": [
    "correlations = X.corrwith(y)\n",
    "\n",
    "sorted_correlations = correlations.sort_values(ascending=False)\n",
    "\n",
    "print(sorted_correlations)"
   ]
  },
  {
   "cell_type": "markdown",
   "id": "30a7b332",
   "metadata": {},
   "source": [
    "The correlations between the independent variables and the target variable (fraud_bool) appear to be relatively low. This could be attributed to the imbalance in the distribution of the target variable, which can make the task of detecting fraud more challenging.\n",
    "\n",
    "Among the variables with positive correlations, we observe that credit_risk_score, proposed_credit_limit, and income show relatively stronger associations with fraud. This suggests that individuals with higher credit risk scores, larger proposed credit limits, and higher incomes may have a slightly higher likelihood of engaging in fraudulent activities."
   ]
  },
  {
   "cell_type": "markdown",
   "id": "95ca1eef",
   "metadata": {},
   "source": [
    "## Feature selection\n",
    "Our feature selection process will be defined by using **VarianceThreshold** from the sklearn library. The threshold we are going to set is 0.1."
   ]
  },
  {
   "cell_type": "code",
   "execution_count": 14,
   "id": "12433d2e",
   "metadata": {},
   "outputs": [],
   "source": [
    "threshold = 0.1\n",
    "variance_selector = VarianceThreshold(threshold=threshold)\n",
    "variance_selector.fit(transactions_encoded)\n",
    "selected_features_mask = variance_selector.get_support()\n",
    "selected_features = transactions_encoded.columns[selected_features_mask]\n",
    "X_selected = transactions_encoded[selected_features]\n",
    "unselected_features = transactions_encoded.columns[~selected_features_mask]"
   ]
  },
  {
   "cell_type": "markdown",
   "id": "b849ce12",
   "metadata": {},
   "source": [
    "Let's see the features that didn't make the cut."
   ]
  },
  {
   "cell_type": "code",
   "execution_count": 15,
   "id": "9a31c98e",
   "metadata": {},
   "outputs": [
    {
     "data": {
      "text/plain": [
       "Index(['fraud_bool', 'income', 'name_email_similarity', 'phone_mobile_valid',\n",
       "       'foreign_request'],\n",
       "      dtype='object')"
      ]
     },
     "execution_count": 15,
     "metadata": {},
     "output_type": "execute_result"
    }
   ],
   "source": [
    "unselected_features"
   ]
  },
  {
   "cell_type": "markdown",
   "id": "7414218b",
   "metadata": {},
   "source": [
    "Let's remove them from our data."
   ]
  },
  {
   "cell_type": "code",
   "execution_count": 16,
   "id": "024cfbef",
   "metadata": {},
   "outputs": [],
   "source": [
    "X = transactions_encoded.drop(['fraud_bool', 'income', 'name_email_similarity', 'phone_mobile_valid',\n",
    "                               'foreign_request'], axis=1)\n",
    "y = transactions_encoded['fraud_bool']"
   ]
  },
  {
   "cell_type": "markdown",
   "id": "08e5f395",
   "metadata": {},
   "source": [
    "## Handling class imbalance\n",
    "To handle the class imbalance demostrated earlier, we are going to use **RandomOverSampler** from the imblearn library.  \n",
    "Oversampling involves increasing the number of instances in the minority class by generating synthetic samples, thus balancing the distribution of the classes. This helps to alleviate the bias and allows the model to learn from a more representative dataset.This can potentially improve the model's ability to learn the patterns and characteristics associated with fraud, leading to better predictions and fraud detection performance."
   ]
  },
  {
   "cell_type": "code",
   "execution_count": 17,
   "id": "37c31f79",
   "metadata": {},
   "outputs": [
    {
     "data": {
      "text/plain": [
       "Index(['current_address_months_count', 'customer_age', 'days_since_request',\n",
       "       'intended_balcon_amount', 'zip_count_4w', 'velocity_6h', 'velocity_24h',\n",
       "       'velocity_4w', 'bank_branch_count_8w',\n",
       "       'date_of_birth_distinct_emails_4w', 'credit_risk_score',\n",
       "       'email_is_free', 'phone_home_valid', 'has_other_cards',\n",
       "       'proposed_credit_limit', 'month', 'payment_type_encoded',\n",
       "       'employment_status_encoded', 'housing_status_encoded',\n",
       "       'application_velocity'],\n",
       "      dtype='object')"
      ]
     },
     "execution_count": 17,
     "metadata": {},
     "output_type": "execute_result"
    }
   ],
   "source": [
    "X.columns"
   ]
  },
  {
   "cell_type": "code",
   "execution_count": 22,
   "id": "18ab0dcd",
   "metadata": {},
   "outputs": [
    {
     "data": {
      "text/plain": [
       "Index(['current_address_months_count', 'customer_age', 'days_since_request',\n",
       "       'intended_balcon_amount', 'zip_count_4w', 'velocity_6h', 'velocity_24h',\n",
       "       'velocity_4w', 'bank_branch_count_8w',\n",
       "       'date_of_birth_distinct_emails_4w', 'credit_risk_score',\n",
       "       'email_is_free', 'phone_home_valid', 'has_other_cards',\n",
       "       'proposed_credit_limit', 'month', 'payment_type_encoded',\n",
       "       'employment_status_encoded', 'housing_status_encoded',\n",
       "       'application_velocity'],\n",
       "      dtype='object')"
      ]
     },
     "execution_count": 22,
     "metadata": {},
     "output_type": "execute_result"
    }
   ],
   "source": [
    "X_selected.columns"
   ]
  },
  {
   "cell_type": "code",
   "execution_count": 21,
   "id": "2f4d17d3",
   "metadata": {},
   "outputs": [],
   "source": [
    "oversampler = RandomOverSampler(random_state=42)\n",
    "X_resampled, y_resampled = oversampler.fit_resample(X_selected, y)"
   ]
  },
  {
   "cell_type": "markdown",
   "id": "b4f2884c",
   "metadata": {},
   "source": [
    "## Train test split and scaling\n",
    "Now that we have handled class imbalance, it's time to split the dataset into training and testing data.\n",
    "We are going to use **train_test_split** from the sklearn library to do that.  \n",
    "Stratify is also being used to ensure that the class distribution in the original dataset is maintained in both the training and testing subsets. By doing that, the split will contain a proportional representation of both fraud and non-fraud cases, preserving the imbalance solution achieved through oversampling.  \n",
    "The use of stratify is particularly important in cases of class imbalance, as it helps prevent situations where one subset ends up with significantly fewer instances of the minority class, which could negatively impact model training and evaluation. "
   ]
  },
  {
   "cell_type": "code",
   "execution_count": 23,
   "id": "b842a6ca",
   "metadata": {},
   "outputs": [],
   "source": [
    "X_train, X_test, y_train, y_test = train_test_split(X_resampled, y_resampled, test_size=0.2, stratify=y_resampled, random_state=42)"
   ]
  },
  {
   "cell_type": "markdown",
   "id": "5e78bd27",
   "metadata": {},
   "source": [
    "Another step we are going to take is scaling our features.  \n",
    "We are going to use **StandardScaler** from the sklearn library.  \n",
    "Scaling is used to ensure that all the features have similar scales and distributions. This is important because many machine learning algorithms are sensitive to the scale of the input features.\n",
    "In our model, scaling is particularly important because it can help prevent certain features from dominating the learning process due to their larger scales - like fraud_bool. It ensures that all features contribute proportionately to the model training, which is essential for capturing patterns and making accurate predictions.\n",
    "\n",
    "We are only scaling X because scaling y could potentially introduce unwanted biases or affect the interpretability of the results."
   ]
  },
  {
   "cell_type": "code",
   "execution_count": 24,
   "id": "04cc10df",
   "metadata": {},
   "outputs": [],
   "source": [
    "scaler = StandardScaler()\n",
    "X_train_scaled = scaler.fit_transform(X_train)\n",
    "X_test_scaled = scaler.transform(X_test)"
   ]
  },
  {
   "cell_type": "markdown",
   "id": "3b11a04c",
   "metadata": {},
   "source": [
    "## Model training\n",
    "The model we have picked for fraud detection is XGBoost. Some of the reasons are as follows:\n",
    "- High performance: it is efficient and can handle large-scale datasets, making it suitable for processing a significant amount of data in fraud detection tasks.\n",
    "\n",
    "- Gradient boosting: it is an ensemble learning algorithm that combines weak models (decision trees) iteratively. By learning from previous models' mistakes, XGBoost focuses on difficult-to-predict instances, which is crucial for detecting complex fraud patterns.\n",
    "\n",
    "- Feature importance: it allows evaluation of feature importance, helping identify influential features in fraud detection. This guides feature engineering efforts and provides insights into fraudulent transaction characteristics\n",
    "\n",
    "We have also set use_label_encoder to False since we are getting a warning when fitting the data."
   ]
  },
  {
   "cell_type": "code",
   "execution_count": 25,
   "id": "453bac31",
   "metadata": {},
   "outputs": [],
   "source": [
    "xgb_classifier = xgb.XGBClassifier(use_label_encoder=False, random_state=42)"
   ]
  },
  {
   "cell_type": "code",
   "execution_count": 26,
   "id": "9776d9af",
   "metadata": {},
   "outputs": [
    {
     "data": {
      "text/html": [
       "<style>#sk-container-id-1 {color: black;}#sk-container-id-1 pre{padding: 0;}#sk-container-id-1 div.sk-toggleable {background-color: white;}#sk-container-id-1 label.sk-toggleable__label {cursor: pointer;display: block;width: 100%;margin-bottom: 0;padding: 0.3em;box-sizing: border-box;text-align: center;}#sk-container-id-1 label.sk-toggleable__label-arrow:before {content: \"▸\";float: left;margin-right: 0.25em;color: #696969;}#sk-container-id-1 label.sk-toggleable__label-arrow:hover:before {color: black;}#sk-container-id-1 div.sk-estimator:hover label.sk-toggleable__label-arrow:before {color: black;}#sk-container-id-1 div.sk-toggleable__content {max-height: 0;max-width: 0;overflow: hidden;text-align: left;background-color: #f0f8ff;}#sk-container-id-1 div.sk-toggleable__content pre {margin: 0.2em;color: black;border-radius: 0.25em;background-color: #f0f8ff;}#sk-container-id-1 input.sk-toggleable__control:checked~div.sk-toggleable__content {max-height: 200px;max-width: 100%;overflow: auto;}#sk-container-id-1 input.sk-toggleable__control:checked~label.sk-toggleable__label-arrow:before {content: \"▾\";}#sk-container-id-1 div.sk-estimator input.sk-toggleable__control:checked~label.sk-toggleable__label {background-color: #d4ebff;}#sk-container-id-1 div.sk-label input.sk-toggleable__control:checked~label.sk-toggleable__label {background-color: #d4ebff;}#sk-container-id-1 input.sk-hidden--visually {border: 0;clip: rect(1px 1px 1px 1px);clip: rect(1px, 1px, 1px, 1px);height: 1px;margin: -1px;overflow: hidden;padding: 0;position: absolute;width: 1px;}#sk-container-id-1 div.sk-estimator {font-family: monospace;background-color: #f0f8ff;border: 1px dotted black;border-radius: 0.25em;box-sizing: border-box;margin-bottom: 0.5em;}#sk-container-id-1 div.sk-estimator:hover {background-color: #d4ebff;}#sk-container-id-1 div.sk-parallel-item::after {content: \"\";width: 100%;border-bottom: 1px solid gray;flex-grow: 1;}#sk-container-id-1 div.sk-label:hover label.sk-toggleable__label {background-color: #d4ebff;}#sk-container-id-1 div.sk-serial::before {content: \"\";position: absolute;border-left: 1px solid gray;box-sizing: border-box;top: 0;bottom: 0;left: 50%;z-index: 0;}#sk-container-id-1 div.sk-serial {display: flex;flex-direction: column;align-items: center;background-color: white;padding-right: 0.2em;padding-left: 0.2em;position: relative;}#sk-container-id-1 div.sk-item {position: relative;z-index: 1;}#sk-container-id-1 div.sk-parallel {display: flex;align-items: stretch;justify-content: center;background-color: white;position: relative;}#sk-container-id-1 div.sk-item::before, #sk-container-id-1 div.sk-parallel-item::before {content: \"\";position: absolute;border-left: 1px solid gray;box-sizing: border-box;top: 0;bottom: 0;left: 50%;z-index: -1;}#sk-container-id-1 div.sk-parallel-item {display: flex;flex-direction: column;z-index: 1;position: relative;background-color: white;}#sk-container-id-1 div.sk-parallel-item:first-child::after {align-self: flex-end;width: 50%;}#sk-container-id-1 div.sk-parallel-item:last-child::after {align-self: flex-start;width: 50%;}#sk-container-id-1 div.sk-parallel-item:only-child::after {width: 0;}#sk-container-id-1 div.sk-dashed-wrapped {border: 1px dashed gray;margin: 0 0.4em 0.5em 0.4em;box-sizing: border-box;padding-bottom: 0.4em;background-color: white;}#sk-container-id-1 div.sk-label label {font-family: monospace;font-weight: bold;display: inline-block;line-height: 1.2em;}#sk-container-id-1 div.sk-label-container {text-align: center;}#sk-container-id-1 div.sk-container {/* jupyter's `normalize.less` sets `[hidden] { display: none; }` but bootstrap.min.css set `[hidden] { display: none !important; }` so we also need the `!important` here to be able to override the default hidden behavior on the sphinx rendered scikit-learn.org. See: https://github.com/scikit-learn/scikit-learn/issues/21755 */display: inline-block !important;position: relative;}#sk-container-id-1 div.sk-text-repr-fallback {display: none;}</style><div id=\"sk-container-id-1\" class=\"sk-top-container\"><div class=\"sk-text-repr-fallback\"><pre>XGBClassifier(base_score=None, booster=None, callbacks=None,\n",
       "              colsample_bylevel=None, colsample_bynode=None,\n",
       "              colsample_bytree=None, device=None, early_stopping_rounds=None,\n",
       "              enable_categorical=False, eval_metric=None, feature_types=None,\n",
       "              gamma=None, grow_policy=None, importance_type=None,\n",
       "              interaction_constraints=None, learning_rate=None, max_bin=None,\n",
       "              max_cat_threshold=None, max_cat_to_onehot=None,\n",
       "              max_delta_step=None, max_depth=None, max_leaves=None,\n",
       "              min_child_weight=None, missing=nan, monotone_constraints=None,\n",
       "              multi_strategy=None, n_estimators=None, n_jobs=None,\n",
       "              num_parallel_tree=None, random_state=42, ...)</pre><b>In a Jupyter environment, please rerun this cell to show the HTML representation or trust the notebook. <br />On GitHub, the HTML representation is unable to render, please try loading this page with nbviewer.org.</b></div><div class=\"sk-container\" hidden><div class=\"sk-item\"><div class=\"sk-estimator sk-toggleable\"><input class=\"sk-toggleable__control sk-hidden--visually\" id=\"sk-estimator-id-1\" type=\"checkbox\" checked><label for=\"sk-estimator-id-1\" class=\"sk-toggleable__label sk-toggleable__label-arrow\">XGBClassifier</label><div class=\"sk-toggleable__content\"><pre>XGBClassifier(base_score=None, booster=None, callbacks=None,\n",
       "              colsample_bylevel=None, colsample_bynode=None,\n",
       "              colsample_bytree=None, device=None, early_stopping_rounds=None,\n",
       "              enable_categorical=False, eval_metric=None, feature_types=None,\n",
       "              gamma=None, grow_policy=None, importance_type=None,\n",
       "              interaction_constraints=None, learning_rate=None, max_bin=None,\n",
       "              max_cat_threshold=None, max_cat_to_onehot=None,\n",
       "              max_delta_step=None, max_depth=None, max_leaves=None,\n",
       "              min_child_weight=None, missing=nan, monotone_constraints=None,\n",
       "              multi_strategy=None, n_estimators=None, n_jobs=None,\n",
       "              num_parallel_tree=None, random_state=42, ...)</pre></div></div></div></div></div>"
      ],
      "text/plain": [
       "XGBClassifier(base_score=None, booster=None, callbacks=None,\n",
       "              colsample_bylevel=None, colsample_bynode=None,\n",
       "              colsample_bytree=None, device=None, early_stopping_rounds=None,\n",
       "              enable_categorical=False, eval_metric=None, feature_types=None,\n",
       "              gamma=None, grow_policy=None, importance_type=None,\n",
       "              interaction_constraints=None, learning_rate=None, max_bin=None,\n",
       "              max_cat_threshold=None, max_cat_to_onehot=None,\n",
       "              max_delta_step=None, max_depth=None, max_leaves=None,\n",
       "              min_child_weight=None, missing=nan, monotone_constraints=None,\n",
       "              multi_strategy=None, n_estimators=None, n_jobs=None,\n",
       "              num_parallel_tree=None, random_state=42, ...)"
      ]
     },
     "execution_count": 26,
     "metadata": {},
     "output_type": "execute_result"
    }
   ],
   "source": [
    "xgb_classifier.fit(X_train_scaled, y_train)"
   ]
  },
  {
   "cell_type": "markdown",
   "id": "744e43bc",
   "metadata": {},
   "source": [
    "Training the model is time consuming since our data consists of 800,000 records."
   ]
  },
  {
   "cell_type": "markdown",
   "id": "87eac9e6",
   "metadata": {},
   "source": [
    "### Feature importance\n",
    "Let's see our feature importance provided handily from our XGBoost model."
   ]
  },
  {
   "cell_type": "code",
   "execution_count": 27,
   "id": "3027a319",
   "metadata": {},
   "outputs": [],
   "source": [
    "importance_scores = xgb_classifier.feature_importances_"
   ]
  },
  {
   "cell_type": "markdown",
   "id": "f3da8dcd",
   "metadata": {},
   "source": [
    "Let's create a dataframe so we can visualise it better."
   ]
  },
  {
   "cell_type": "code",
   "execution_count": 28,
   "id": "df66a796",
   "metadata": {},
   "outputs": [
    {
     "data": {
      "text/html": [
       "<div>\n",
       "<style scoped>\n",
       "    .dataframe tbody tr th:only-of-type {\n",
       "        vertical-align: middle;\n",
       "    }\n",
       "\n",
       "    .dataframe tbody tr th {\n",
       "        vertical-align: top;\n",
       "    }\n",
       "\n",
       "    .dataframe thead th {\n",
       "        text-align: right;\n",
       "    }\n",
       "</style>\n",
       "<table border=\"1\" class=\"dataframe\">\n",
       "  <thead>\n",
       "    <tr style=\"text-align: right;\">\n",
       "      <th></th>\n",
       "      <th>Feature</th>\n",
       "      <th>Importance</th>\n",
       "    </tr>\n",
       "  </thead>\n",
       "  <tbody>\n",
       "    <tr>\n",
       "      <th>0</th>\n",
       "      <td>housing_status_encoded</td>\n",
       "      <td>0.237717</td>\n",
       "    </tr>\n",
       "    <tr>\n",
       "      <th>1</th>\n",
       "      <td>has_other_cards</td>\n",
       "      <td>0.143053</td>\n",
       "    </tr>\n",
       "    <tr>\n",
       "      <th>2</th>\n",
       "      <td>phone_home_valid</td>\n",
       "      <td>0.109995</td>\n",
       "    </tr>\n",
       "    <tr>\n",
       "      <th>3</th>\n",
       "      <td>email_is_free</td>\n",
       "      <td>0.084442</td>\n",
       "    </tr>\n",
       "    <tr>\n",
       "      <th>4</th>\n",
       "      <td>customer_age</td>\n",
       "      <td>0.049329</td>\n",
       "    </tr>\n",
       "    <tr>\n",
       "      <th>5</th>\n",
       "      <td>proposed_credit_limit</td>\n",
       "      <td>0.047891</td>\n",
       "    </tr>\n",
       "    <tr>\n",
       "      <th>6</th>\n",
       "      <td>employment_status_encoded</td>\n",
       "      <td>0.042221</td>\n",
       "    </tr>\n",
       "    <tr>\n",
       "      <th>7</th>\n",
       "      <td>current_address_months_count</td>\n",
       "      <td>0.038266</td>\n",
       "    </tr>\n",
       "    <tr>\n",
       "      <th>8</th>\n",
       "      <td>date_of_birth_distinct_emails_4w</td>\n",
       "      <td>0.029164</td>\n",
       "    </tr>\n",
       "    <tr>\n",
       "      <th>9</th>\n",
       "      <td>bank_branch_count_8w</td>\n",
       "      <td>0.026501</td>\n",
       "    </tr>\n",
       "    <tr>\n",
       "      <th>10</th>\n",
       "      <td>credit_risk_score</td>\n",
       "      <td>0.025909</td>\n",
       "    </tr>\n",
       "    <tr>\n",
       "      <th>11</th>\n",
       "      <td>intended_balcon_amount</td>\n",
       "      <td>0.023022</td>\n",
       "    </tr>\n",
       "    <tr>\n",
       "      <th>12</th>\n",
       "      <td>month</td>\n",
       "      <td>0.021177</td>\n",
       "    </tr>\n",
       "    <tr>\n",
       "      <th>13</th>\n",
       "      <td>velocity_4w</td>\n",
       "      <td>0.019743</td>\n",
       "    </tr>\n",
       "    <tr>\n",
       "      <th>14</th>\n",
       "      <td>payment_type_encoded</td>\n",
       "      <td>0.018545</td>\n",
       "    </tr>\n",
       "    <tr>\n",
       "      <th>15</th>\n",
       "      <td>days_since_request</td>\n",
       "      <td>0.018527</td>\n",
       "    </tr>\n",
       "    <tr>\n",
       "      <th>16</th>\n",
       "      <td>velocity_24h</td>\n",
       "      <td>0.016818</td>\n",
       "    </tr>\n",
       "    <tr>\n",
       "      <th>17</th>\n",
       "      <td>zip_count_4w</td>\n",
       "      <td>0.016477</td>\n",
       "    </tr>\n",
       "    <tr>\n",
       "      <th>18</th>\n",
       "      <td>velocity_6h</td>\n",
       "      <td>0.015718</td>\n",
       "    </tr>\n",
       "    <tr>\n",
       "      <th>19</th>\n",
       "      <td>application_velocity</td>\n",
       "      <td>0.015485</td>\n",
       "    </tr>\n",
       "  </tbody>\n",
       "</table>\n",
       "</div>"
      ],
      "text/plain": [
       "                             Feature  Importance\n",
       "0             housing_status_encoded    0.237717\n",
       "1                    has_other_cards    0.143053\n",
       "2                   phone_home_valid    0.109995\n",
       "3                      email_is_free    0.084442\n",
       "4                       customer_age    0.049329\n",
       "5              proposed_credit_limit    0.047891\n",
       "6          employment_status_encoded    0.042221\n",
       "7       current_address_months_count    0.038266\n",
       "8   date_of_birth_distinct_emails_4w    0.029164\n",
       "9               bank_branch_count_8w    0.026501\n",
       "10                 credit_risk_score    0.025909\n",
       "11            intended_balcon_amount    0.023022\n",
       "12                             month    0.021177\n",
       "13                       velocity_4w    0.019743\n",
       "14              payment_type_encoded    0.018545\n",
       "15                days_since_request    0.018527\n",
       "16                      velocity_24h    0.016818\n",
       "17                      zip_count_4w    0.016477\n",
       "18                       velocity_6h    0.015718\n",
       "19              application_velocity    0.015485"
      ]
     },
     "execution_count": 28,
     "metadata": {},
     "output_type": "execute_result"
    }
   ],
   "source": [
    "feature_names = X_train.columns\n",
    "\n",
    "feature_importance_df = pd.DataFrame({'Feature': feature_names[:len(importance_scores)], 'Importance': importance_scores})\n",
    "\n",
    "sorted_feature_importance_df = feature_importance_df.sort_values('Importance', ascending=False).reset_index(drop=True)\n",
    "\n",
    "sorted_feature_importance_df"
   ]
  },
  {
   "cell_type": "markdown",
   "id": "3c63d24c",
   "metadata": {},
   "source": [
    "We can make some key observations regarding feature importance.\n",
    "- Housing status: The housing status of a person appears to be the most influential feature. It suggests that people with certain types of housing arrangements may be more prone to engaging in fraudulent activities. For example, people living in temporary accommodations or unstable housing situations might exhibit higher fraud risk.\n",
    "\n",
    "- Device OS: The type of device operating system used during the transaction or application process is another important factor. Fraudsters may exploit specific device vulnerabilities or utilize certain OS features to carry out fraudulent activities. By considering the device OS, the fraud detection model can identify patterns and flag suspicious transactions.\n",
    "\n",
    "- Phone validity: The validity of the phone number associated with the home address is an essential feature. Fraudsters may provide fake or invalid phone numbers, making it difficult to establish contact or verify customer details. A higher importance score for this feature suggests that fraudsters often manipulate or provide false phone numbers to carry out fraudulent activities.\n",
    "\n",
    "- Other cards: The presence of other credit or payment cards owned by the customer is a relevant feature. Individuals with multiple cards may have a higher risk of involvement in fraudulent transactions. Fraudsters often acquire multiple cards to carry out coordinated frauds or engage in unauthorized transactions.\n",
    "\n",
    "- Session longevity: Maintaining a continuous session during the application process is an important indicator of potential fraud. Fraudsters may create disruptions or abruptly end sessions to avoid detection or manipulate the application process. By emphasizing the importance of session continuity, the model can flag such suspicious activities."
   ]
  },
  {
   "cell_type": "markdown",
   "id": "3a934b32",
   "metadata": {},
   "source": [
    "### Predicting fraud on unseen data"
   ]
  },
  {
   "cell_type": "code",
   "execution_count": 29,
   "id": "710a59b4",
   "metadata": {},
   "outputs": [],
   "source": [
    "y_pred = xgb_classifier.predict(X_test_scaled)\n",
    "y_pred_proba = xgb_classifier.predict_proba(X_test_scaled)[:, 1]"
   ]
  },
  {
   "cell_type": "markdown",
   "id": "055e83a8",
   "metadata": {},
   "source": [
    "## Model evaluation"
   ]
  },
  {
   "cell_type": "markdown",
   "id": "7313bbe2",
   "metadata": {},
   "source": [
    "### Classification report\n",
    "**Classification_report** from sklearn is used to evaluate the performance of a classification model in binary classification tasks. It provides metrics such as precision, recall, F1-score, and support. These metrics help assess the model's ability to accurately predict positive instances (fraud cases) and minimize false positives and false negatives. By using the classification report, we can measure the model's performance and make informed decisions regarding its deployment for fraud detection."
   ]
  },
  {
   "cell_type": "code",
   "execution_count": 30,
   "id": "879d86f2",
   "metadata": {},
   "outputs": [
    {
     "name": "stdout",
     "output_type": "stream",
     "text": [
      "              precision    recall  f1-score   support\n",
      "\n",
      "           0       0.88      0.84      0.86    197795\n",
      "           1       0.85      0.89      0.87    197794\n",
      "\n",
      "    accuracy                           0.87    395589\n",
      "   macro avg       0.87      0.87      0.87    395589\n",
      "weighted avg       0.87      0.87      0.87    395589\n",
      "\n"
     ]
    }
   ],
   "source": [
    "print(classification_report(y_test, y_pred))"
   ]
  },
  {
   "cell_type": "markdown",
   "id": "14577f7a",
   "metadata": {},
   "source": [
    "Let's summarise what we can observe from the report.\n",
    "\n",
    "- Precision: The precision for class 0 (non-fraud cases) is 0.91, indicating that out of all the instances predicted as non-fraud, 91% are actually non-fraud. The precision for class 1 (fraud cases) is 0.87, meaning that out of all the instances predicted as fraud, 87% are actually fraud.\n",
    "\n",
    "- Recall: The recall for class 0 is 0.86, indicating that the model correctly identifies 86% of the actual non-fraud cases. The recall for class 1 is 0.91, meaning that the model captures 91% of the actual fraud cases.\n",
    "\n",
    "- F1-score: For class 0, the F1-score is 0.88, and for class 1, it is 0.89. These scores provide a balanced measure of the model's performance, considering both precision and recall.\n",
    "\n",
    "- Support: The support represents the number of instances of each class in the test set. In this case, there are 197,795 instances of class 0 and 197,794 instances of class 1.\n",
    "\n",
    "- Accuracy: The overall accuracy of the model is 0.89, indicating that it correctly classifies 89% of the instances in the test set."
   ]
  },
  {
   "cell_type": "markdown",
   "id": "1023ba3c",
   "metadata": {},
   "source": [
    "## Precision-Recall curve\n",
    "We use the  precision-recall curve to evaluate a binary classification model's performance in cases of imbalanced classes. It shows the trade-off between precision and recall at different probability thresholds, helping us assess the model's ability to identify positive cases (fraud) accurately. It provides a visual representation of performance and is useful when accuracy alone is not reliable due to class imbalance.  \n",
    "We use the appropriate functions from sklearn."
   ]
  },
  {
   "cell_type": "code",
   "execution_count": 31,
   "id": "82782e66",
   "metadata": {},
   "outputs": [],
   "source": [
    "precision, recall, _ = precision_recall_curve(y_test, y_pred_proba)\n",
    "pr_auc = auc(recall, precision)"
   ]
  },
  {
   "cell_type": "markdown",
   "id": "acc419e3",
   "metadata": {},
   "source": [
    "Now that we have calculated the number, let's plot it."
   ]
  },
  {
   "cell_type": "code",
   "execution_count": 32,
   "id": "af96848f",
   "metadata": {},
   "outputs": [
    {
     "data": {
      "image/png": "[encoded data removed]",
      "text/plain": [
       "<Figure size 640x480 with 1 Axes>"
      ]
     },
     "metadata": {},
     "output_type": "display_data"
    }
   ],
   "source": [
    "plt.figure()\n",
    "plt.step(recall, precision, color='b', alpha=0.2, where='post')\n",
    "plt.fill_between(recall, precision, alpha=0.2, color='b')\n",
    "plt.xlabel('Recall')\n",
    "plt.ylabel('Precision')\n",
    "plt.ylim([0.0, 1.05])\n",
    "plt.xlim([0.0, 1.0])\n",
    "plt.title('Precision-Recall Curve (AUC={:.2f})'.format(pr_auc))\n",
    "plt.show()"
   ]
  },
  {
   "cell_type": "markdown",
   "id": "373c3b6a",
   "metadata": {},
   "source": [
    "We see that we get a value of 0.94. The area under the curve (AUC) represents the model's ability to distinguish between positive and negative classes, with a value ranging from 0 to 1.  \n",
    "A value of 0.94 indicates that the model is capable of differentiating between fraud and non-fraud transactions with a high degree of accuracy."
   ]
  },
  {
   "cell_type": "markdown",
   "id": "f7891321",
   "metadata": {},
   "source": [
    "## Receiver Operating Characteristic (ROC) curve\n",
    "We use ROC to evaluate the performance of our model. It provides a visual representation of the trade-off between the true positive rate (sensitivity) and the false positive rate (1 - specificity) across different classification thresholds. By plotting the ROC curve, we can assess how well the model can distinguish between positive and negative classes. The curve's shape and the area under it (AUC again) indicate the model's overall performance, with a higher AUC suggesting better ability.  \n",
    "Again, we use the appropriate sklearn functions to calculate the curve."
   ]
  },
  {
   "cell_type": "code",
   "execution_count": 33,
   "id": "d8bb3386",
   "metadata": {},
   "outputs": [],
   "source": [
    "fpr, tpr, thresholds = roc_curve(y_test, y_pred_proba)\n",
    "auc = roc_auc_score(y_test, y_pred_proba)"
   ]
  },
  {
   "cell_type": "markdown",
   "id": "5a5d5396",
   "metadata": {},
   "source": [
    "And now let's visualise it."
   ]
  },
  {
   "cell_type": "code",
   "execution_count": 34,
   "id": "d1efc020",
   "metadata": {},
   "outputs": [
    {
     "data": {
      "image/png": "[encoded data removed]",
      "text/plain": [
       "<Figure size 640x480 with 1 Axes>"
      ]
     },
     "metadata": {},
     "output_type": "display_data"
    }
   ],
   "source": [
    "plt.plot(fpr, tpr, label='ROC curve (AUC = {:.2f})'.format(auc))\n",
    "plt.plot([0, 1], [0, 1], 'k--')  # Diagonal line\n",
    "plt.xlabel('False Positive Rate')\n",
    "plt.ylabel('True Positive Rate')\n",
    "plt.title('Receiver Operating Characteristic (ROC) Curve')\n",
    "plt.legend(loc='lower right')\n",
    "plt.show()"
   ]
  },
  {
   "cell_type": "markdown",
   "id": "925771eb",
   "metadata": {},
   "source": [
    "AUC is 0.95, it indicates that our model has a high true positive rate and a low false positive rate.\n",
    "\n",
    "The \"lasso\" shape of the ROC curve suggests that the model is performing well across a range of decision thresholds. It implies that the model achieves high true positive rates while maintaining a relatively low false positive rate. This is a desirable property for our fraud detection model since it indicates that the model can effectively identify fraudulent transactions without generating a large number of false positives.\n",
    "\n",
    "The AUC value of 0.95 further confirms the model's strong discriminatory power. An AUC close to 1 indicates that the model has a high probability of ranking a randomly chosen fraudulent transaction higher than a randomly chosen non-fraudulent transaction."
   ]
  }
 ],
 "metadata": {
  "kernelspec": {
   "display_name": "Python 3 (ipykernel)",
   "language": "python",
   "name": "python3"
  },
  "language_info": {
   "codemirror_mode": {
    "name": "ipython",
    "version": 3
   },
   "file_extension": ".py",
   "mimetype": "text/x-python",
   "name": "python",
   "nbconvert_exporter": "python",
   "pygments_lexer": "ipython3",
   "version": "3.11.0"
  }
 },
 "nbformat": 4,
 "nbformat_minor": 5
}
